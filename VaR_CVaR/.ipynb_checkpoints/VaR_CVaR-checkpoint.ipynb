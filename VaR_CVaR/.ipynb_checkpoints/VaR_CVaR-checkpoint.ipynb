{
  "cells": [
    {
      "cell_type": "code",
      "execution_count": null,
      "metadata": {
        "id": "PUMQgTGe9FE7"
      },
      "outputs": [],
      "source": [
        "!pip install yfinance"
      ]
    },
    {
      "cell_type": "code",
      "execution_count": null,
      "metadata": {
        "id": "sSxIAlP1-BJ_"
      },
      "outputs": [],
      "source": [
        "#Para los dataframes\n",
        "import pandas as pd \n",
        "#Para las operaciones\n",
        "import numpy as np\n",
        "#Para visualizar.\n",
        "import matplotlib.pyplot as plt\n",
        "#Para darle un estilo más bonito a las gráficas\n",
        "import seaborn as sns\n",
        "sns.set() #Con esto 'configuramos' el estilo de seaborn\n",
        "#Para obtener la información de yahoo! finance\n",
        "import yfinance as yf\n",
        "#Para lo relacionado a estadística\n",
        "from scipy.stats import norm,t"
      ]
    },
    {
      "cell_type": "code",
      "execution_count": null,
      "metadata": {
        "colab": {
          "background_save": true,
          "base_uri": "https://localhost:8080/",
          "height": 238
        },
        "id": "Jz80M63S-bEz",
        "outputId": "70485edc-abd3-4366-cb02-80efd24334ec"
      },
      "outputs": [
        {
          "data": {
            "text/html": [
              "\n",
              "  <div id=\"df-5c657856-df33-41dd-b7bc-84146f75a8e1\">\n",
              "    <div class=\"colab-df-container\">\n",
              "      <div>\n",
              "<style scoped>\n",
              "    .dataframe tbody tr th:only-of-type {\n",
              "        vertical-align: middle;\n",
              "    }\n",
              "\n",
              "    .dataframe tbody tr th {\n",
              "        vertical-align: top;\n",
              "    }\n",
              "\n",
              "    .dataframe thead th {\n",
              "        text-align: right;\n",
              "    }\n",
              "</style>\n",
              "<table border=\"1\" class=\"dataframe\">\n",
              "  <thead>\n",
              "    <tr style=\"text-align: right;\">\n",
              "      <th></th>\n",
              "      <th>Open</th>\n",
              "      <th>High</th>\n",
              "      <th>Low</th>\n",
              "      <th>Close</th>\n",
              "    </tr>\n",
              "    <tr>\n",
              "      <th>Date</th>\n",
              "      <th></th>\n",
              "      <th></th>\n",
              "      <th></th>\n",
              "      <th></th>\n",
              "    </tr>\n",
              "  </thead>\n",
              "  <tbody>\n",
              "    <tr>\n",
              "      <th>2022-04-01</th>\n",
              "      <td>19.875200</td>\n",
              "      <td>19.930059</td>\n",
              "      <td>19.750999</td>\n",
              "      <td>19.875200</td>\n",
              "    </tr>\n",
              "    <tr>\n",
              "      <th>2022-04-04</th>\n",
              "      <td>19.857300</td>\n",
              "      <td>19.868200</td>\n",
              "      <td>19.723101</td>\n",
              "      <td>19.857300</td>\n",
              "    </tr>\n",
              "    <tr>\n",
              "      <th>2022-04-05</th>\n",
              "      <td>19.809320</td>\n",
              "      <td>19.939560</td>\n",
              "      <td>19.754900</td>\n",
              "      <td>19.809320</td>\n",
              "    </tr>\n",
              "    <tr>\n",
              "      <th>2022-04-06</th>\n",
              "      <td>19.982599</td>\n",
              "      <td>20.074829</td>\n",
              "      <td>19.961500</td>\n",
              "      <td>19.982599</td>\n",
              "    </tr>\n",
              "    <tr>\n",
              "      <th>2022-04-07</th>\n",
              "      <td>20.132000</td>\n",
              "      <td>20.162300</td>\n",
              "      <td>20.122101</td>\n",
              "      <td>20.146000</td>\n",
              "    </tr>\n",
              "  </tbody>\n",
              "</table>\n",
              "</div>\n",
              "      <button class=\"colab-df-convert\" onclick=\"convertToInteractive('df-5c657856-df33-41dd-b7bc-84146f75a8e1')\"\n",
              "              title=\"Convert this dataframe to an interactive table.\"\n",
              "              style=\"display:none;\">\n",
              "        \n",
              "  <svg xmlns=\"http://www.w3.org/2000/svg\" height=\"24px\"viewBox=\"0 0 24 24\"\n",
              "       width=\"24px\">\n",
              "    <path d=\"M0 0h24v24H0V0z\" fill=\"none\"/>\n",
              "    <path d=\"M18.56 5.44l.94 2.06.94-2.06 2.06-.94-2.06-.94-.94-2.06-.94 2.06-2.06.94zm-11 1L8.5 8.5l.94-2.06 2.06-.94-2.06-.94L8.5 2.5l-.94 2.06-2.06.94zm10 10l.94 2.06.94-2.06 2.06-.94-2.06-.94-.94-2.06-.94 2.06-2.06.94z\"/><path d=\"M17.41 7.96l-1.37-1.37c-.4-.4-.92-.59-1.43-.59-.52 0-1.04.2-1.43.59L10.3 9.45l-7.72 7.72c-.78.78-.78 2.05 0 2.83L4 21.41c.39.39.9.59 1.41.59.51 0 1.02-.2 1.41-.59l7.78-7.78 2.81-2.81c.8-.78.8-2.07 0-2.86zM5.41 20L4 18.59l7.72-7.72 1.47 1.35L5.41 20z\"/>\n",
              "  </svg>\n",
              "      </button>\n",
              "      \n",
              "  <style>\n",
              "    .colab-df-container {\n",
              "      display:flex;\n",
              "      flex-wrap:wrap;\n",
              "      gap: 12px;\n",
              "    }\n",
              "\n",
              "    .colab-df-convert {\n",
              "      background-color: #E8F0FE;\n",
              "      border: none;\n",
              "      border-radius: 50%;\n",
              "      cursor: pointer;\n",
              "      display: none;\n",
              "      fill: #1967D2;\n",
              "      height: 32px;\n",
              "      padding: 0 0 0 0;\n",
              "      width: 32px;\n",
              "    }\n",
              "\n",
              "    .colab-df-convert:hover {\n",
              "      background-color: #E2EBFA;\n",
              "      box-shadow: 0px 1px 2px rgba(60, 64, 67, 0.3), 0px 1px 3px 1px rgba(60, 64, 67, 0.15);\n",
              "      fill: #174EA6;\n",
              "    }\n",
              "\n",
              "    [theme=dark] .colab-df-convert {\n",
              "      background-color: #3B4455;\n",
              "      fill: #D2E3FC;\n",
              "    }\n",
              "\n",
              "    [theme=dark] .colab-df-convert:hover {\n",
              "      background-color: #434B5C;\n",
              "      box-shadow: 0px 1px 3px 1px rgba(0, 0, 0, 0.15);\n",
              "      filter: drop-shadow(0px 1px 2px rgba(0, 0, 0, 0.3));\n",
              "      fill: #FFFFFF;\n",
              "    }\n",
              "  </style>\n",
              "\n",
              "      <script>\n",
              "        const buttonEl =\n",
              "          document.querySelector('#df-5c657856-df33-41dd-b7bc-84146f75a8e1 button.colab-df-convert');\n",
              "        buttonEl.style.display =\n",
              "          google.colab.kernel.accessAllowed ? 'block' : 'none';\n",
              "\n",
              "        async function convertToInteractive(key) {\n",
              "          const element = document.querySelector('#df-5c657856-df33-41dd-b7bc-84146f75a8e1');\n",
              "          const dataTable =\n",
              "            await google.colab.kernel.invokeFunction('convertToInteractive',\n",
              "                                                     [key], {});\n",
              "          if (!dataTable) return;\n",
              "\n",
              "          const docLinkHtml = 'Like what you see? Visit the ' +\n",
              "            '<a target=\"_blank\" href=https://colab.research.google.com/notebooks/data_table.ipynb>data table notebook</a>'\n",
              "            + ' to learn more about interactive tables.';\n",
              "          element.innerHTML = '';\n",
              "          dataTable['output_type'] = 'display_data';\n",
              "          await google.colab.output.renderOutput(dataTable, element);\n",
              "          const docLink = document.createElement('div');\n",
              "          docLink.innerHTML = docLinkHtml;\n",
              "          element.appendChild(docLink);\n",
              "        }\n",
              "      </script>\n",
              "    </div>\n",
              "  </div>\n",
              "  "
            ],
            "text/plain": [
              "                 Open       High        Low      Close\n",
              "Date                                                  \n",
              "2022-04-01  19.875200  19.930059  19.750999  19.875200\n",
              "2022-04-04  19.857300  19.868200  19.723101  19.857300\n",
              "2022-04-05  19.809320  19.939560  19.754900  19.809320\n",
              "2022-04-06  19.982599  20.074829  19.961500  19.982599\n",
              "2022-04-07  20.132000  20.162300  20.122101  20.146000"
            ]
          },
          "execution_count": null,
          "metadata": {},
          "output_type": "execute_result"
        }
      ],
      "source": [
        "MXN = yf.Ticker(\"MXN=X\") #USD/MXN\n",
        "MXN = MXN.history(start=\"2007-04-07\",end=\"2022-04-07\") #La fecha de término debe ser un día DESPUÉS, t+1\n",
        "MXN = MXN[[\"Open\",\"High\",\"Low\",\"Close\"]]\n",
        "MXN.tail()"
      ]
    },
    {
      "cell_type": "markdown",
      "metadata": {
        "id": "VpfDAVrlMi9l"
      },
      "source": [
        "#### Hay que revisar si hay na"
      ]
    },
    {
      "cell_type": "code",
      "execution_count": null,
      "metadata": {
        "colab": {
          "base_uri": "https://localhost:8080/"
        },
        "id": "Wt4S5LsvMbNC",
        "outputId": "fef16bde-c3c5-4b8a-b614-6757a05c0efd"
      },
      "outputs": [
        {
          "name": "stdout",
          "output_type": "stream",
          "text": [
            "entradas con na Empty DataFrame\n",
            "Columns: [Open, High, Low, Close]\n",
            "Index: []\n",
            "Hay  0  entradas con na\n"
          ]
        }
      ],
      "source": [
        "es_Na_y=MXN[pd.isna(MXN)]\n",
        "renglon_tiene_Na_y = es_Na_y.any(axis=1)\n",
        "renglones_con_Na_y = MXN[renglon_tiene_Na_y]\n",
        "print(\"entradas con na\",renglones_con_Na_y)\n",
        "print(\"Hay \",len(renglones_con_Na_y), \" entradas con na\")\n",
        "MXN=MXN.dropna()"
      ]
    },
    {
      "cell_type": "code",
      "execution_count": null,
      "metadata": {
        "colab": {
          "base_uri": "https://localhost:8080/",
          "height": 238
        },
        "id": "UhIkHL_4MzrD",
        "outputId": "a0d27128-2be8-4349-f96a-fdf7dcb4bd29"
      },
      "outputs": [
        {
          "data": {
            "text/html": [
              "\n",
              "  <div id=\"df-06796144-aa3d-479b-b786-5e554a5ebde1\">\n",
              "    <div class=\"colab-df-container\">\n",
              "      <div>\n",
              "<style scoped>\n",
              "    .dataframe tbody tr th:only-of-type {\n",
              "        vertical-align: middle;\n",
              "    }\n",
              "\n",
              "    .dataframe tbody tr th {\n",
              "        vertical-align: top;\n",
              "    }\n",
              "\n",
              "    .dataframe thead th {\n",
              "        text-align: right;\n",
              "    }\n",
              "</style>\n",
              "<table border=\"1\" class=\"dataframe\">\n",
              "  <thead>\n",
              "    <tr style=\"text-align: right;\">\n",
              "      <th></th>\n",
              "      <th>precio</th>\n",
              "    </tr>\n",
              "    <tr>\n",
              "      <th>Date</th>\n",
              "      <th></th>\n",
              "    </tr>\n",
              "  </thead>\n",
              "  <tbody>\n",
              "    <tr>\n",
              "      <th>2022-04-01</th>\n",
              "      <td>19.875200</td>\n",
              "    </tr>\n",
              "    <tr>\n",
              "      <th>2022-04-04</th>\n",
              "      <td>19.857300</td>\n",
              "    </tr>\n",
              "    <tr>\n",
              "      <th>2022-04-05</th>\n",
              "      <td>19.809320</td>\n",
              "    </tr>\n",
              "    <tr>\n",
              "      <th>2022-04-06</th>\n",
              "      <td>19.982599</td>\n",
              "    </tr>\n",
              "    <tr>\n",
              "      <th>2022-04-07</th>\n",
              "      <td>20.153299</td>\n",
              "    </tr>\n",
              "  </tbody>\n",
              "</table>\n",
              "</div>\n",
              "      <button class=\"colab-df-convert\" onclick=\"convertToInteractive('df-06796144-aa3d-479b-b786-5e554a5ebde1')\"\n",
              "              title=\"Convert this dataframe to an interactive table.\"\n",
              "              style=\"display:none;\">\n",
              "        \n",
              "  <svg xmlns=\"http://www.w3.org/2000/svg\" height=\"24px\"viewBox=\"0 0 24 24\"\n",
              "       width=\"24px\">\n",
              "    <path d=\"M0 0h24v24H0V0z\" fill=\"none\"/>\n",
              "    <path d=\"M18.56 5.44l.94 2.06.94-2.06 2.06-.94-2.06-.94-.94-2.06-.94 2.06-2.06.94zm-11 1L8.5 8.5l.94-2.06 2.06-.94-2.06-.94L8.5 2.5l-.94 2.06-2.06.94zm10 10l.94 2.06.94-2.06 2.06-.94-2.06-.94-.94-2.06-.94 2.06-2.06.94z\"/><path d=\"M17.41 7.96l-1.37-1.37c-.4-.4-.92-.59-1.43-.59-.52 0-1.04.2-1.43.59L10.3 9.45l-7.72 7.72c-.78.78-.78 2.05 0 2.83L4 21.41c.39.39.9.59 1.41.59.51 0 1.02-.2 1.41-.59l7.78-7.78 2.81-2.81c.8-.78.8-2.07 0-2.86zM5.41 20L4 18.59l7.72-7.72 1.47 1.35L5.41 20z\"/>\n",
              "  </svg>\n",
              "      </button>\n",
              "      \n",
              "  <style>\n",
              "    .colab-df-container {\n",
              "      display:flex;\n",
              "      flex-wrap:wrap;\n",
              "      gap: 12px;\n",
              "    }\n",
              "\n",
              "    .colab-df-convert {\n",
              "      background-color: #E8F0FE;\n",
              "      border: none;\n",
              "      border-radius: 50%;\n",
              "      cursor: pointer;\n",
              "      display: none;\n",
              "      fill: #1967D2;\n",
              "      height: 32px;\n",
              "      padding: 0 0 0 0;\n",
              "      width: 32px;\n",
              "    }\n",
              "\n",
              "    .colab-df-convert:hover {\n",
              "      background-color: #E2EBFA;\n",
              "      box-shadow: 0px 1px 2px rgba(60, 64, 67, 0.3), 0px 1px 3px 1px rgba(60, 64, 67, 0.15);\n",
              "      fill: #174EA6;\n",
              "    }\n",
              "\n",
              "    [theme=dark] .colab-df-convert {\n",
              "      background-color: #3B4455;\n",
              "      fill: #D2E3FC;\n",
              "    }\n",
              "\n",
              "    [theme=dark] .colab-df-convert:hover {\n",
              "      background-color: #434B5C;\n",
              "      box-shadow: 0px 1px 3px 1px rgba(0, 0, 0, 0.15);\n",
              "      filter: drop-shadow(0px 1px 2px rgba(0, 0, 0, 0.3));\n",
              "      fill: #FFFFFF;\n",
              "    }\n",
              "  </style>\n",
              "\n",
              "      <script>\n",
              "        const buttonEl =\n",
              "          document.querySelector('#df-06796144-aa3d-479b-b786-5e554a5ebde1 button.colab-df-convert');\n",
              "        buttonEl.style.display =\n",
              "          google.colab.kernel.accessAllowed ? 'block' : 'none';\n",
              "\n",
              "        async function convertToInteractive(key) {\n",
              "          const element = document.querySelector('#df-06796144-aa3d-479b-b786-5e554a5ebde1');\n",
              "          const dataTable =\n",
              "            await google.colab.kernel.invokeFunction('convertToInteractive',\n",
              "                                                     [key], {});\n",
              "          if (!dataTable) return;\n",
              "\n",
              "          const docLinkHtml = 'Like what you see? Visit the ' +\n",
              "            '<a target=\"_blank\" href=https://colab.research.google.com/notebooks/data_table.ipynb>data table notebook</a>'\n",
              "            + ' to learn more about interactive tables.';\n",
              "          element.innerHTML = '';\n",
              "          dataTable['output_type'] = 'display_data';\n",
              "          await google.colab.output.renderOutput(dataTable, element);\n",
              "          const docLink = document.createElement('div');\n",
              "          docLink.innerHTML = docLinkHtml;\n",
              "          element.appendChild(docLink);\n",
              "        }\n",
              "      </script>\n",
              "    </div>\n",
              "  </div>\n",
              "  "
            ],
            "text/plain": [
              "               precio\n",
              "Date                 \n",
              "2022-04-01  19.875200\n",
              "2022-04-04  19.857300\n",
              "2022-04-05  19.809320\n",
              "2022-04-06  19.982599\n",
              "2022-04-07  20.153299"
            ]
          },
          "execution_count": 71,
          "metadata": {},
          "output_type": "execute_result"
        }
      ],
      "source": [
        "info = pd.DataFrame() #Si no lo hacemos así, tenemos un warning medio raro\n",
        "info[\"precio\"] = MXN[\"Close\"]\n",
        "info.tail() #Visualizamos"
      ]
    },
    {
      "cell_type": "code",
      "execution_count": null,
      "metadata": {
        "colab": {
          "base_uri": "https://localhost:8080/",
          "height": 301
        },
        "id": "s4CC8arW_tb6",
        "outputId": "e69f8743-38f1-4e14-b95d-54844cecedb8"
      },
      "outputs": [
        {
          "data": {
            "image/png": "[encoded data removed]",
            "text/plain": [
              "<Figure size 432x288 with 1 Axes>"
            ]
          },
          "metadata": {},
          "output_type": "display_data"
        }
      ],
      "source": [
        "plt.figure()\n",
        "plt.plot(info)\n",
        "plt.title('Serie de tiempo de MXN')\n",
        "plt.xlabel('Fecha')\n",
        "plt.ylabel('Precio')\n",
        "plt.show()"
      ]
    },
    {
      "cell_type": "markdown",
      "metadata": {
        "id": "DRqSWdOXCwMg"
      },
      "source": [
        "## Retornos\n",
        "\n",
        "Los retornos diarios a tienpo $t$ están dados por:\n",
        "\n",
        "$$r_{t}^{d}=ln\\left(\\frac{p_t}{p_{t-1}}\\right)=ln(p_t)-ln(p_{t-1})$$\n",
        "\n",
        "Donde:\n",
        "\n",
        "* $r_{t}^{d}$ son los retornos diarios a tiempo $t$\n",
        "* $p_{t}$ es el precio a tiepo $t$\n",
        "* $p_{t-1}$ es el precio a tiempo $t-1$\n",
        "\n",
        "## En nuestro contexto: ¿Realmente son ganancias?\n",
        "\n",
        "Estamos analizando el tipo de cambio USD/MXN, es decir, cuántos pesos necesitamos comprar para obtener un dólar.\n",
        "\n",
        "$$USD/MXN\\quad aumenta \\implies \\textbf{El peso se deprecia porque necesitamos más pesos para comprar un dólar}$$\n",
        "\n",
        "$$USD/MXN\\quad disminuye \\implies \\textbf{El peso se deprecia porque necesitamos menos pesos para comprar un dólar}$$\n",
        "\n",
        "En este sentido, el sacar los retornos, **un retorno negativo implicará una ganancia, y uno positivo implicará una pérdida**. Entonces, estaríamos trabajando con **la distribución de pérdidas**"
      ]
    },
    {
      "cell_type": "code",
      "execution_count": null,
      "metadata": {
        "colab": {
          "base_uri": "https://localhost:8080/",
          "height": 206
        },
        "id": "K9v-lOzoA__i",
        "outputId": "ba4ee408-bece-453e-e240-275e0be67063"
      },
      "outputs": [
        {
          "data": {
            "text/html": [
              "\n",
              "  <div id=\"df-e912fdb0-2f19-456d-9db0-a08254adb6ee\">\n",
              "    <div class=\"colab-df-container\">\n",
              "      <div>\n",
              "<style scoped>\n",
              "    .dataframe tbody tr th:only-of-type {\n",
              "        vertical-align: middle;\n",
              "    }\n",
              "\n",
              "    .dataframe tbody tr th {\n",
              "        vertical-align: top;\n",
              "    }\n",
              "\n",
              "    .dataframe thead th {\n",
              "        text-align: right;\n",
              "    }\n",
              "</style>\n",
              "<table border=\"1\" class=\"dataframe\">\n",
              "  <thead>\n",
              "    <tr style=\"text-align: right;\">\n",
              "      <th></th>\n",
              "      <th>precio</th>\n",
              "      <th>precio_dia_anterior</th>\n",
              "      <th>retorno_diario</th>\n",
              "    </tr>\n",
              "  </thead>\n",
              "  <tbody>\n",
              "    <tr>\n",
              "      <th>0</th>\n",
              "      <td>10.9978</td>\n",
              "      <td>10.9708</td>\n",
              "      <td>0.245801</td>\n",
              "    </tr>\n",
              "    <tr>\n",
              "      <th>1</th>\n",
              "      <td>11.0148</td>\n",
              "      <td>10.9978</td>\n",
              "      <td>0.154459</td>\n",
              "    </tr>\n",
              "    <tr>\n",
              "      <th>2</th>\n",
              "      <td>10.9890</td>\n",
              "      <td>11.0148</td>\n",
              "      <td>-0.234503</td>\n",
              "    </tr>\n",
              "    <tr>\n",
              "      <th>3</th>\n",
              "      <td>10.9410</td>\n",
              "      <td>10.9890</td>\n",
              "      <td>-0.437760</td>\n",
              "    </tr>\n",
              "    <tr>\n",
              "      <th>4</th>\n",
              "      <td>10.9700</td>\n",
              "      <td>10.9410</td>\n",
              "      <td>0.264710</td>\n",
              "    </tr>\n",
              "  </tbody>\n",
              "</table>\n",
              "</div>\n",
              "      <button class=\"colab-df-convert\" onclick=\"convertToInteractive('df-e912fdb0-2f19-456d-9db0-a08254adb6ee')\"\n",
              "              title=\"Convert this dataframe to an interactive table.\"\n",
              "              style=\"display:none;\">\n",
              "        \n",
              "  <svg xmlns=\"http://www.w3.org/2000/svg\" height=\"24px\"viewBox=\"0 0 24 24\"\n",
              "       width=\"24px\">\n",
              "    <path d=\"M0 0h24v24H0V0z\" fill=\"none\"/>\n",
              "    <path d=\"M18.56 5.44l.94 2.06.94-2.06 2.06-.94-2.06-.94-.94-2.06-.94 2.06-2.06.94zm-11 1L8.5 8.5l.94-2.06 2.06-.94-2.06-.94L8.5 2.5l-.94 2.06-2.06.94zm10 10l.94 2.06.94-2.06 2.06-.94-2.06-.94-.94-2.06-.94 2.06-2.06.94z\"/><path d=\"M17.41 7.96l-1.37-1.37c-.4-.4-.92-.59-1.43-.59-.52 0-1.04.2-1.43.59L10.3 9.45l-7.72 7.72c-.78.78-.78 2.05 0 2.83L4 21.41c.39.39.9.59 1.41.59.51 0 1.02-.2 1.41-.59l7.78-7.78 2.81-2.81c.8-.78.8-2.07 0-2.86zM5.41 20L4 18.59l7.72-7.72 1.47 1.35L5.41 20z\"/>\n",
              "  </svg>\n",
              "      </button>\n",
              "      \n",
              "  <style>\n",
              "    .colab-df-container {\n",
              "      display:flex;\n",
              "      flex-wrap:wrap;\n",
              "      gap: 12px;\n",
              "    }\n",
              "\n",
              "    .colab-df-convert {\n",
              "      background-color: #E8F0FE;\n",
              "      border: none;\n",
              "      border-radius: 50%;\n",
              "      cursor: pointer;\n",
              "      display: none;\n",
              "      fill: #1967D2;\n",
              "      height: 32px;\n",
              "      padding: 0 0 0 0;\n",
              "      width: 32px;\n",
              "    }\n",
              "\n",
              "    .colab-df-convert:hover {\n",
              "      background-color: #E2EBFA;\n",
              "      box-shadow: 0px 1px 2px rgba(60, 64, 67, 0.3), 0px 1px 3px 1px rgba(60, 64, 67, 0.15);\n",
              "      fill: #174EA6;\n",
              "    }\n",
              "\n",
              "    [theme=dark] .colab-df-convert {\n",
              "      background-color: #3B4455;\n",
              "      fill: #D2E3FC;\n",
              "    }\n",
              "\n",
              "    [theme=dark] .colab-df-convert:hover {\n",
              "      background-color: #434B5C;\n",
              "      box-shadow: 0px 1px 3px 1px rgba(0, 0, 0, 0.15);\n",
              "      filter: drop-shadow(0px 1px 2px rgba(0, 0, 0, 0.3));\n",
              "      fill: #FFFFFF;\n",
              "    }\n",
              "  </style>\n",
              "\n",
              "      <script>\n",
              "        const buttonEl =\n",
              "          document.querySelector('#df-e912fdb0-2f19-456d-9db0-a08254adb6ee button.colab-df-convert');\n",
              "        buttonEl.style.display =\n",
              "          google.colab.kernel.accessAllowed ? 'block' : 'none';\n",
              "\n",
              "        async function convertToInteractive(key) {\n",
              "          const element = document.querySelector('#df-e912fdb0-2f19-456d-9db0-a08254adb6ee');\n",
              "          const dataTable =\n",
              "            await google.colab.kernel.invokeFunction('convertToInteractive',\n",
              "                                                     [key], {});\n",
              "          if (!dataTable) return;\n",
              "\n",
              "          const docLinkHtml = 'Like what you see? Visit the ' +\n",
              "            '<a target=\"_blank\" href=https://colab.research.google.com/notebooks/data_table.ipynb>data table notebook</a>'\n",
              "            + ' to learn more about interactive tables.';\n",
              "          element.innerHTML = '';\n",
              "          dataTable['output_type'] = 'display_data';\n",
              "          await google.colab.output.renderOutput(dataTable, element);\n",
              "          const docLink = document.createElement('div');\n",
              "          docLink.innerHTML = docLinkHtml;\n",
              "          element.appendChild(docLink);\n",
              "        }\n",
              "      </script>\n",
              "    </div>\n",
              "  </div>\n",
              "  "
            ],
            "text/plain": [
              "    precio  precio_dia_anterior  retorno_diario\n",
              "0  10.9978              10.9708        0.245801\n",
              "1  11.0148              10.9978        0.154459\n",
              "2  10.9890              11.0148       -0.234503\n",
              "3  10.9410              10.9890       -0.437760\n",
              "4  10.9700              10.9410        0.264710"
            ]
          },
          "execution_count": 73,
          "metadata": {},
          "output_type": "execute_result"
        }
      ],
      "source": [
        "info_diaria=info.copy() #Trabajamos con una copia del df original\n",
        "info_diaria['precio_dia_anterior'] = info_diaria['precio'].shift(1) #Desplazamos una unidad hacia atrás\n",
        "#Hacemos el cociente y multiplicamos por 100 para tener el porcentaje\n",
        "info_diaria['retorno_diario'] = (np.log(info_diaria['precio']/info_diaria['precio_dia_anterior']))*100 \n",
        "info_diaria = info_diaria.dropna()\n",
        "info_diaria = info_diaria.reset_index(drop=True)\n",
        "info_diaria.head()"
      ]
    },
    {
      "cell_type": "code",
      "execution_count": null,
      "metadata": {
        "colab": {
          "base_uri": "https://localhost:8080/",
          "height": 301
        },
        "id": "Hnl0YhlFNn34",
        "outputId": "435872ed-43eb-4dda-8652-c4c832f09262"
      },
      "outputs": [
        {
          "data": {
            "image/png": "[encoded data removed]",
            "text/plain": [
              "<Figure size 432x288 with 1 Axes>"
            ]
          },
          "metadata": {},
          "output_type": "display_data"
        }
      ],
      "source": [
        "plt.figure()\n",
        "plt.plot(info_diaria['retorno_diario'])\n",
        "plt.title('Serie de tiempo de rendimientos diarios MXN')\n",
        "plt.xlabel('Fecha')\n",
        "plt.ylabel('Retorno Diario')\n",
        "plt.show()"
      ]
    },
    {
      "cell_type": "markdown",
      "metadata": {
        "id": "ETS8ylnfUxvs"
      },
      "source": [
        "## Usando t-student"
      ]
    },
    {
      "cell_type": "code",
      "execution_count": null,
      "metadata": {
        "colab": {
          "base_uri": "https://localhost:8080/"
        },
        "id": "2NW7PTaBOEjY",
        "outputId": "59d3768c-23ab-4b43-b87a-f07d6d4f76d0"
      },
      "outputs": [
        {
          "data": {
            "text/plain": [
              "(3.548821043928611, -0.012652849068116784, 0.5573766307715138)"
            ]
          },
          "execution_count": 75,
          "metadata": {},
          "output_type": "execute_result"
        }
      ],
      "source": [
        "#info_diaria['retorno_diario']=-info_diaria['retorno_diario']\n",
        "t_parameters=t.fit(info_diaria['retorno_diario'])\n",
        "t_parameters"
      ]
    },
    {
      "cell_type": "code",
      "execution_count": null,
      "metadata": {
        "colab": {
          "base_uri": "https://localhost:8080/",
          "height": 301
        },
        "id": "cab4QYXHPjtT",
        "outputId": "47caafc4-cd74-4570-f866-55051779d5d6"
      },
      "outputs": [
        {
          "data": {
            "image/png": "[encoded data removed]",
            "text/plain": [
              "<Figure size 432x288 with 1 Axes>"
            ]
          },
          "metadata": {},
          "output_type": "display_data"
        }
      ],
      "source": [
        "x=np.linspace(min(info_diaria[\"retorno_diario\"]),max(info_diaria[\"retorno_diario\"]))\n",
        "plt.figure()\n",
        "plt.plot(x,t.pdf(x,t_parameters[0],t_parameters[1],t_parameters[2]))\n",
        "plt.title('Ajuste de t-student para USD/MXN')\n",
        "plt.xlabel('Retorno')\n",
        "plt.ylabel('proba')\n",
        "plt.show()"
      ]
    },
    {
      "cell_type": "code",
      "execution_count": null,
      "metadata": {
        "colab": {
          "base_uri": "https://localhost:8080/"
        },
        "id": "x5vfcvVvRCu2",
        "outputId": "873346bf-54cb-44b4-da7c-ac7bd3bdcffa"
      },
      "outputs": [
        {
          "data": {
            "text/plain": [
              "2.7906064055258653"
            ]
          },
          "execution_count": 92,
          "metadata": {},
          "output_type": "execute_result"
        }
      ],
      "source": [
        "alpha=0.995\n",
        "VaR_t=t.ppf(alpha,t_parameters[0],t_parameters[1],t_parameters[2])\n",
        "VaR_t"
      ]
    },
    {
      "cell_type": "code",
      "execution_count": null,
      "metadata": {
        "colab": {
          "base_uri": "https://localhost:8080/"
        },
        "id": "kkLZ3H6KRcYG",
        "outputId": "139ebb63-0378-4382-b3b2-9d2cff431c2e"
      },
      "outputs": [
        {
          "data": {
            "text/plain": [
              "3.986287761779251"
            ]
          },
          "execution_count": 93,
          "metadata": {},
          "output_type": "execute_result"
        }
      ],
      "source": [
        "tail_loss = t.expect( lambda y: y, args = (t_parameters[0],), loc = t_parameters[1], \n",
        "                     scale = t_parameters[2], lb = VaR_t)\n",
        "CVaR_t = (1 / (1 - alpha)) * tail_loss\n",
        "CVaR_t"
      ]
    },
    {
      "cell_type": "markdown",
      "metadata": {
        "id": "Nd_2Kb3ZU5v6"
      },
      "source": [
        "## Usando normal"
      ]
    },
    {
      "cell_type": "code",
      "execution_count": null,
      "metadata": {
        "colab": {
          "base_uri": "https://localhost:8080/",
          "height": 301
        },
        "id": "ZuxcdMSvVABc",
        "outputId": "9f29b728-dbc3-4a93-a6d0-1bddbcb088f9"
      },
      "outputs": [
        {
          "data": {
            "image/png": "[encoded data removed]",
            "text/plain": [
              "<Figure size 432x288 with 1 Axes>"
            ]
          },
          "metadata": {},
          "output_type": "display_data"
        }
      ],
      "source": [
        "mu=np.mean(info_diaria[\"retorno_diario\"])\n",
        "sigma=np.std(info_diaria[\"retorno_diario\"])\n",
        "plt.figure()\n",
        "plt.plot(x,norm.pdf(x,mu,sigma))\n",
        "plt.title('Ajuste de normal para USD/MXN')\n",
        "plt.xlabel('Retorno')\n",
        "plt.ylabel('proba')\n",
        "plt.show()"
      ]
    },
    {
      "cell_type": "code",
      "execution_count": null,
      "metadata": {
        "colab": {
          "base_uri": "https://localhost:8080/"
        },
        "id": "SQNnVzSJV8GM",
        "outputId": "e9d3e328-9925-4061-c398-19d35ecaa6a1"
      },
      "outputs": [
        {
          "data": {
            "text/plain": [
              "2.171412672031679"
            ]
          },
          "execution_count": 95,
          "metadata": {},
          "output_type": "execute_result"
        }
      ],
      "source": [
        "VaR_n=norm.ppf(alpha,mu,sigma)\n",
        "VaR_n"
      ]
    },
    {
      "cell_type": "code",
      "execution_count": null,
      "metadata": {
        "colab": {
          "base_uri": "https://localhost:8080/"
        },
        "id": "sQbORrfJWbW7",
        "outputId": "31e71ed1-f16f-4458-b7da-e4b61abd9288"
      },
      "outputs": [
        {
          "data": {
            "text/plain": [
              "6.336548063524596"
            ]
          },
          "execution_count": 96,
          "metadata": {},
          "output_type": "execute_result"
        }
      ],
      "source": [
        "CVaR_n=mu+sigma*norm.pdf(norm.ppf(alpha,mu,sigma))/(1-alpha)\n",
        "CVaR_n"
      ]
    },
    {
      "cell_type": "markdown",
      "metadata": {
        "id": "Cq8-t8uHXJti"
      },
      "source": [
        "## Usando el histórico"
      ]
    },
    {
      "cell_type": "code",
      "execution_count": null,
      "metadata": {
        "colab": {
          "base_uri": "https://localhost:8080/",
          "height": 301
        },
        "id": "pQQNHCIyW4-4",
        "outputId": "865da28e-491e-44b5-fe42-60400b60e3c2"
      },
      "outputs": [
        {
          "data": {
            "image/png": "[encoded data removed]",
            "text/plain": [
              "<Figure size 432x288 with 1 Axes>"
            ]
          },
          "metadata": {},
          "output_type": "display_data"
        }
      ],
      "source": [
        "plt.figure()\n",
        "sns.histplot(info_diaria['retorno_diario'],stat=\"density\",color=\"dodgerblue\")\n",
        "plt.title(\"Histórico para USD/MXN\")\n",
        "plt.show()"
      ]
    },
    {
      "cell_type": "code",
      "execution_count": null,
      "metadata": {
        "colab": {
          "base_uri": "https://localhost:8080/"
        },
        "id": "I04HHKwcZpID",
        "outputId": "f8824a13-df28-407d-f5fc-f67377b3defa"
      },
      "outputs": [
        {
          "data": {
            "text/plain": [
              "2.9642748207536838"
            ]
          },
          "execution_count": 97,
          "metadata": {},
          "output_type": "execute_result"
        }
      ],
      "source": [
        "VaR_h=np.quantile(info_diaria[\"retorno_diario\"],alpha)\n",
        "VaR_h"
      ]
    },
    {
      "cell_type": "code",
      "execution_count": null,
      "metadata": {
        "colab": {
          "base_uri": "https://localhost:8080/"
        },
        "id": "mgalirE2adcm",
        "outputId": "13063b5a-2d5b-4399-9e30-c0cc7094fa3b"
      },
      "outputs": [
        {
          "data": {
            "text/plain": [
              "4.58723555930812"
            ]
          },
          "execution_count": 98,
          "metadata": {},
          "output_type": "execute_result"
        }
      ],
      "source": [
        "CVaR_h=np.mean(info_diaria[info_diaria[\"retorno_diario\"]>=VaR_h]['retorno_diario'])\n",
        "CVaR_h"
      ]
    },
    {
      "cell_type": "markdown",
      "metadata": {
        "id": "NzQJ-sLQbUtm"
      },
      "source": [
        "Si $L\\sim t(\\nu,\\mu,\\sigma)$, entonces:\n",
        "\n",
        "$$CVaR_{\\alpha}(L)=\\mu+\\sigma\\frac{(\\nu+t^2_{\\nu,\\alpha})f_{\\nu}(t_\\nu)}{(1-\\alpha)(\\nu-1)}$$"
      ]
    }
  ],
  "metadata": {
    "colab": {
      "name": "VaR_CVaR.ipynb",
      "provenance": []
    },
    "kernelspec": {
      "display_name": "Python 3",
      "name": "python3"
    },
    "language_info": {
      "name": "python"
    }
  },
  "nbformat": 4,
  "nbformat_minor": 0
}