{
 "cells": [
  {
   "cell_type": "markdown",
   "metadata": {},
   "source": [
    "</b><font color = #000066 size=6.5> Facultad de Ciencias</font> \n",
    "\n",
    "<br><font color = #CC9933 size=6.5> UNAM </font> \n",
    "\n",
    " <br><font color = silver size=7> Programación en Python</font> "
   ]
  },
  {
   "cell_type": "markdown",
   "metadata": {},
   "source": [
    "***"
   ]
  },
  {
   "cell_type": "markdown",
   "metadata": {},
   "source": [
    "# Notas del curso Métodos Cuantitativos en finanzas (Parte 2)\n",
    "\n",
    "\n",
    "El presente curso de programación está dividido en partes para mantener más legible, entendible y ordenado el contenido. \n",
    "\n",
    "<br><font color = #708090 size=1> El contenido de este documento fue inspirado en las notas de los cursos *Python for Finance* e *Introduction to Python Primer* impartidos por los doctores Antoine Jacquier, Aitor Murguraza Gonzalez y Riaz Ahmad. Para cualquier duda o comentario el contenido, escribir a marianne.toscano@ciencias.unam.mx  </font>  "
   ]
  },
  {
   "cell_type": "markdown",
   "metadata": {},
   "source": [
    "***"
   ]
  },
  {
   "cell_type": "markdown",
   "metadata": {},
   "source": [
    "### Operador lambda $\\lambda$\n",
    "\n",
    "Para los casos en que deseamos definir una función sin darle un nompre específico y queremos usar la función una sola vez. Es una función anónima"
   ]
  },
  {
   "cell_type": "code",
   "execution_count": null,
   "metadata": {},
   "outputs": [],
   "source": [
    "(lambda x: x**2)(3) # la función que devuelve el cuadrado de un número"
   ]
  },
  {
   "cell_type": "code",
   "execution_count": null,
   "metadata": {},
   "outputs": [],
   "source": [
    "(lambda x,y,z : x + y + z)(1,2,3) # función que recibe tres parámetros y los suma"
   ]
  },
  {
   "cell_type": "code",
   "execution_count": null,
   "metadata": {},
   "outputs": [],
   "source": [
    "potencia = lambda x, y: x ** y\n",
    "\n",
    "potencia(2, 3)\n",
    "\n",
    "def potencia(x,y):\n",
    "    return x**y\n",
    "\n",
    "potencia(2, 3)"
   ]
  },
  {
   "cell_type": "markdown",
   "metadata": {},
   "source": [
    "### `map()`\n",
    "Podemos usar `map()`en un operador `lambda` y guardamos los resultados en la variable `cuadrados`"
   ]
  },
  {
   "cell_type": "code",
   "execution_count": null,
   "metadata": {},
   "outputs": [],
   "source": [
    "numeros = [44,5,2,6]\n",
    "\n",
    "cuadrados = map(lambda num: num ** 2, numeros)\n",
    "\n",
    "print(cuadrados)"
   ]
  },
  {
   "cell_type": "markdown",
   "metadata": {},
   "source": [
    "`cuadrados`es un objeto de tipo *map*, para revelar el resultado de aplicar la función lambda, aplicamos la función `list()`"
   ]
  },
  {
   "cell_type": "code",
   "execution_count": null,
   "metadata": {},
   "outputs": [],
   "source": [
    "print(list(cuadrados))"
   ]
  },
  {
   "cell_type": "code",
   "execution_count": null,
   "metadata": {},
   "outputs": [],
   "source": [
    "def eleva_cuadrado(x):\n",
    "    return x ** 2\n",
    "    \n",
    "list(map(eleva_cuadrado, [1, 2, 3, 4]))"
   ]
  },
  {
   "cell_type": "markdown",
   "metadata": {},
   "source": [
    "### Magics ! !\n",
    "\n",
    "Los notebooks vienen con comandos especiales incorporados llamados **magics**. Estos comandos proceden un `%`o dos`%%`.\n",
    "\n",
    "Carcteristicas:\n",
    "\n",
    "El primero (`%`) todo lo que siga de este símbolo será el argumento del magic (**line magics**)\n",
    "\n",
    "El segundo (`%%`) hace alusión a un magic que tiene como argumento toda la celda (**cell magics**)\n",
    "\n",
    "Una lista de los magics disponibles es la siguiente:"
   ]
  },
  {
   "cell_type": "code",
   "execution_count": null,
   "metadata": {},
   "outputs": [],
   "source": [
    "lsmagic # esto no es un ejemplo de magics, no utiliza %"
   ]
  },
  {
   "cell_type": "code",
   "execution_count": null,
   "metadata": {},
   "outputs": [],
   "source": [
    "$\\alpha$"
   ]
  },
  {
   "cell_type": "code",
   "execution_count": null,
   "metadata": {},
   "outputs": [],
   "source": [
    "%%latex # Con este magics, código en latex puede ir en una celda tipo `Code`\n",
    "\n",
    "$$\\alpha+\\beta$$\n",
    "$$\\int_{-\\infty}^{\\infty} e^{-x^2} dx = \\sqrt{\\pi}$$"
   ]
  },
  {
   "cell_type": "markdown",
   "metadata": {},
   "source": [
    "Yo puedo escribir lo mismo en `Markdown`\n",
    "\n",
    "$$\\alpha+\\beta$$\n",
    "\n",
    "$$\\int_{-\\infty}^{\\infty} e^{-x^2} dx = \\sqrt{\\pi}$$"
   ]
  },
  {
   "cell_type": "markdown",
   "metadata": {},
   "source": [
    "## Introducción a *pandas*\n",
    "\n",
    "`pandas` es una biblioteca desarrollada para la manipulación y el análisis de datos para el lenguaje de programación Python. "
   ]
  },
  {
   "cell_type": "code",
   "execution_count": null,
   "metadata": {},
   "outputs": [],
   "source": [
    "import pandas as pd\n",
    "\n",
    "import numpy as np # Explicación detallada más adelante\n",
    "import matplotlib.pylab as plt # \" \" \" \""
   ]
  },
  {
   "cell_type": "markdown",
   "metadata": {},
   "source": [
    "### Ejemplo\n",
    "Fuente: wikipedia (https://es.wikipedia.org/wiki/Pandas_(software)) \n",
    "\n",
    "**Curvas**\n",
    "\n",
    "Comenzamos creando 5 series de 100 numeros aleatorios (*random*) y creamos curvas acumulando esos números"
   ]
  },
  {
   "cell_type": "code",
   "execution_count": null,
   "metadata": {},
   "outputs": [],
   "source": [
    "list('ABCDE')"
   ]
  },
  {
   "cell_type": "code",
   "execution_count": null,
   "metadata": {},
   "outputs": [],
   "source": [
    "df = pd.DataFrame(np.random.randn(100, 5), columns = list('ABCDE')) # “standard normal”\n",
    "df = df.cumsum() # Devuelve la suma acumulada sobre un eje de un DataFrame o una Series\n",
    "\n",
    "df.plot()\n",
    "plt.show()"
   ]
  },
  {
   "cell_type": "code",
   "execution_count": null,
   "metadata": {},
   "outputs": [],
   "source": [
    "df # Creamos un DataFrame"
   ]
  },
  {
   "cell_type": "code",
   "execution_count": null,
   "metadata": {},
   "outputs": [],
   "source": [
    "df.head() # Muestra los primeros 5 renglones"
   ]
  },
  {
   "cell_type": "code",
   "execution_count": null,
   "metadata": {},
   "outputs": [],
   "source": [
    "df.tail() # Muestra los últimos 5 renglones"
   ]
  },
  {
   "cell_type": "code",
   "execution_count": null,
   "metadata": {},
   "outputs": [],
   "source": [
    "list('ABCDE') # El nombre de las columnas que asigné en celdas anteriores"
   ]
  },
  {
   "cell_type": "code",
   "execution_count": null,
   "metadata": {},
   "outputs": [],
   "source": [
    "# Para cambiar nombre de columnas\n",
    "df.columns = [\"Serie A\", \"Serie B\", \"Serie C\", \"Serie D\", \"Serie E\"]\n",
    "\n",
    "df.head()"
   ]
  },
  {
   "cell_type": "code",
   "execution_count": null,
   "metadata": {},
   "outputs": [],
   "source": [
    "# O bien\n",
    "df.columns = [\"Serie %s\" %i  for i in list('ABCDE')]\n",
    "\n",
    "df.head()"
   ]
  },
  {
   "cell_type": "markdown",
   "metadata": {},
   "source": [
    "La primer columna de la izquierda es un índice que se colocó por default, comienza en 0 y termina en 99. Por el momento no tiene una interpretación real, no obstante, podemos hacer que ese índice nos diga información acerca de los datos en el DataFrame, por ejemplo:"
   ]
  },
  {
   "cell_type": "code",
   "execution_count": null,
   "metadata": {},
   "outputs": [],
   "source": [
    "yyyy = '2000'\n",
    "mm = '01'\n",
    "dd = '01'\n",
    "\n",
    "fecha_inicial = yyyy + \"-\" + mm + \"-\" + dd # Concatenación de cadenas\n",
    "\n",
    "print(\"Mi fecha inicial es:\", fecha_inicial)"
   ]
  },
  {
   "cell_type": "markdown",
   "metadata": {},
   "source": [
    "`pandas` te permite crear un rango de fechas "
   ]
  },
  {
   "cell_type": "code",
   "execution_count": null,
   "metadata": {},
   "outputs": [],
   "source": [
    "fechas = pd.date_range(fecha_inicial, periods = 100, freq = \"D\")\n",
    "fechas"
   ]
  },
  {
   "cell_type": "markdown",
   "metadata": {},
   "source": [
    "y asignarlo como índice a nuestro DataFrame"
   ]
  },
  {
   "cell_type": "code",
   "execution_count": null,
   "metadata": {},
   "outputs": [],
   "source": [
    "df.index = fechas\n",
    "df.index.name = 'Fecha'\n",
    "df.head()"
   ]
  },
  {
   "cell_type": "code",
   "execution_count": null,
   "metadata": {},
   "outputs": [],
   "source": [
    "df.keys()"
   ]
  },
  {
   "cell_type": "code",
   "execution_count": null,
   "metadata": {},
   "outputs": [],
   "source": [
    "df.info()"
   ]
  },
  {
   "cell_type": "code",
   "execution_count": null,
   "metadata": {},
   "outputs": [],
   "source": [
    "df.describe()"
   ]
  },
  {
   "cell_type": "code",
   "execution_count": null,
   "metadata": {},
   "outputs": [],
   "source": [
    "df.describe().min()['Serie C']"
   ]
  },
  {
   "cell_type": "code",
   "execution_count": null,
   "metadata": {},
   "outputs": [],
   "source": [
    "type(df.describe())"
   ]
  },
  {
   "cell_type": "code",
   "execution_count": null,
   "metadata": {},
   "outputs": [],
   "source": [
    "fecha_inicial\n",
    "#df.loc[fecha_inicial, 'Serie B']"
   ]
  },
  {
   "cell_type": "code",
   "execution_count": null,
   "metadata": {},
   "outputs": [],
   "source": [
    "print(dir(pd))"
   ]
  },
  {
   "cell_type": "markdown",
   "metadata": {},
   "source": [
    "### Ingresar  a los elementos dentro de un DataFrame\n",
    "\n",
    "Un DataFrame está indexado como un arrleglo, especificando el número de renglón y la columna usando **.iloc** (*index location*). \n",
    "\n",
    "La locación puede ser llamado por número o por nombre"
   ]
  },
  {
   "cell_type": "code",
   "execution_count": null,
   "metadata": {},
   "outputs": [],
   "source": [
    "print(\"El elemento en el primer renglon y la segunda columna es: \", \n",
    "      df.iloc[0, 1], \" o bien \", df.loc[fecha_inicial, 'Serie B'])\n"
   ]
  },
  {
   "cell_type": "markdown",
   "metadata": {},
   "source": [
    "**Importante**\n",
    "\n",
    "¿Qué objetos resultan de correr:\n",
    "- `df.iloc[2]` ?\n",
    "- `df.iloc[2].value` ?\n",
    "- `[d for d in df.iloc[2]` ?"
   ]
  },
  {
   "cell_type": "code",
   "execution_count": null,
   "metadata": {},
   "outputs": [],
   "source": [
    "print(type(df.iloc[2]))"
   ]
  },
  {
   "cell_type": "code",
   "execution_count": null,
   "metadata": {},
   "outputs": [],
   "source": [
    "print(type(df.iloc[2].values)) # NumPy array! "
   ]
  },
  {
   "cell_type": "code",
   "execution_count": null,
   "metadata": {},
   "outputs": [],
   "source": [
    "print(type([d for d in df.iloc[2]]))"
   ]
  },
  {
   "cell_type": "code",
   "execution_count": null,
   "metadata": {},
   "outputs": [],
   "source": [
    "pd.DataFrame({'Marianne': ['Bueno.', 'Excelente.'],\n",
    "              'Eduardo': ['Muy bueno.', 'Deficiente.']},\n",
    "             index=['Podructo A', 'Producto B'])"
   ]
  },
  {
   "cell_type": "code",
   "execution_count": null,
   "metadata": {},
   "outputs": [],
   "source": [
    "pd.Series([8.1, 9.2, 7.8], \n",
    "          index=['Promedio 2019', 'Promedio 2020', 'Promedio 2021'], \n",
    "          name = 'MCF 9458')"
   ]
  },
  {
   "cell_type": "code",
   "execution_count": null,
   "metadata": {},
   "outputs": [],
   "source": [
    "clase_mcf = pd.DataFrame([[35, 21, 26], [49, 34, 15]], \n",
    "                           columns=['Matematicos', 'Actuarios','Otro'], \n",
    "                           index=['Grupo 2017', 'Grupo 2020'])\n",
    "\n",
    "clase_mcf"
   ]
  },
  {
   "cell_type": "code",
   "execution_count": null,
   "metadata": {},
   "outputs": [],
   "source": [
    "clase_mcf.to_csv(\"Estadisticas_carrera_mcf.csv\")"
   ]
  },
  {
   "cell_type": "code",
   "execution_count": null,
   "metadata": {},
   "outputs": [],
   "source": [
    "clase_mcf.Actuarios"
   ]
  },
  {
   "cell_type": "code",
   "execution_count": null,
   "metadata": {},
   "outputs": [],
   "source": [
    "clase_mcf['Actuarios']"
   ]
  },
  {
   "cell_type": "code",
   "execution_count": null,
   "metadata": {},
   "outputs": [],
   "source": [
    "clase_mcf.index.name= 'Grupo'\n",
    "clase_mcf"
   ]
  },
  {
   "cell_type": "code",
   "execution_count": null,
   "metadata": {},
   "outputs": [],
   "source": [
    "clase_mcf.index = [2017,2020]\n",
    "clase_mcf.index.name = 'Grupo'\n",
    "clase_mcf"
   ]
  },
  {
   "cell_type": "code",
   "execution_count": null,
   "metadata": {},
   "outputs": [],
   "source": [
    "df.iloc[0] # el primer renglón de datos"
   ]
  },
  {
   "cell_type": "markdown",
   "metadata": {},
   "source": [
    "slices"
   ]
  },
  {
   "cell_type": "code",
   "execution_count": null,
   "metadata": {},
   "outputs": [],
   "source": [
    "df.iloc[:, 0] # la primera columna de datos"
   ]
  },
  {
   "cell_type": "code",
   "execution_count": null,
   "metadata": {},
   "outputs": [],
   "source": [
    "df.iloc[1:3,0] # segundo y tercer renglón de la primera columna"
   ]
  },
  {
   "cell_type": "code",
   "execution_count": null,
   "metadata": {},
   "outputs": [],
   "source": [
    "df.iloc[:3,0] # primer, segundo y tercer renglon de la primera columna"
   ]
  },
  {
   "cell_type": "code",
   "execution_count": null,
   "metadata": {},
   "outputs": [],
   "source": [
    "df.iloc[[0,1,2],0] # lo mismo"
   ]
  },
  {
   "cell_type": "code",
   "execution_count": null,
   "metadata": {},
   "outputs": [],
   "source": [
    "df.iloc[-5:] # los últimos 5 elementos"
   ]
  },
  {
   "cell_type": "markdown",
   "metadata": {},
   "source": [
    "### `.loc`"
   ]
  },
  {
   "cell_type": "code",
   "execution_count": null,
   "metadata": {},
   "outputs": [],
   "source": [
    "df.loc[fecha_inicial, 'Serie B']"
   ]
  },
  {
   "cell_type": "code",
   "execution_count": null,
   "metadata": {},
   "outputs": [],
   "source": [
    "df.loc[fecha_inicial, ['Serie B','Serie D']]"
   ]
  },
  {
   "cell_type": "markdown",
   "metadata": {},
   "source": [
    "### `.at` y `.iat`\n",
    "\n",
    "Estos dos comandos son muy similares a `.loc`y `.iloc`, y de hecho son más rápidos. La única desventaja es que no se pueden seleccionar fragmentos/slices del dataframe (solo puede tener índices enteros)"
   ]
  },
  {
   "cell_type": "code",
   "execution_count": null,
   "metadata": {},
   "outputs": [],
   "source": [
    "%timeit df.iloc[10, 2] # line magics timeit\n",
    "%timeit df.iat[10, 2]"
   ]
  },
  {
   "cell_type": "code",
   "execution_count": null,
   "metadata": {},
   "outputs": [],
   "source": [
    "df.at[fecha_inicial, 'Serie B']"
   ]
  },
  {
   "cell_type": "code",
   "execution_count": null,
   "metadata": {},
   "outputs": [],
   "source": [
    "df.iat[10, 2:3]"
   ]
  },
  {
   "cell_type": "markdown",
   "metadata": {},
   "source": [
    " ### Extraer elementos con condiciones\n",
    " \n",
    " En un dataframe podemos usar condicionales para filtrar o extraer elementos"
   ]
  },
  {
   "cell_type": "code",
   "execution_count": null,
   "metadata": {},
   "outputs": [],
   "source": [
    "nombre_mi_serie = 'Serie C'\n",
    "df[df[nombre_mi_serie] > 5]"
   ]
  },
  {
   "cell_type": "code",
   "execution_count": null,
   "metadata": {},
   "outputs": [],
   "source": [
    "mi_serie =  df[nombre_mi_serie][df[nombre_mi_serie] > 9]\n",
    "mi_serie"
   ]
  },
  {
   "cell_type": "markdown",
   "metadata": {},
   "source": [
    "También podemos devolver los valores de `mi_serie`en una lista"
   ]
  },
  {
   "cell_type": "code",
   "execution_count": null,
   "metadata": {},
   "outputs": [],
   "source": [
    "print(mi_serie.values)"
   ]
  },
  {
   "cell_type": "code",
   "execution_count": null,
   "metadata": {},
   "outputs": [],
   "source": [
    "df[nombre_mi_serie]"
   ]
  },
  {
   "cell_type": "code",
   "execution_count": null,
   "metadata": {},
   "outputs": [],
   "source": [
    "def mi_funcion(x,param):\n",
    "    return 2. * np.sin(x)\n",
    "\n",
    "\n",
    "df[nombre_mi_serie] = df[nombre_mi_serie].apply(mi_funcion, args=(-10,)) # args: tuple - Positional arguments to pass to func in addition to the array/series.\n",
    "# DataFrame.apply(func, axis=0, raw=False, result_type=None, args=(), **kwargs)[source]\n",
    "# https://pandas.pydata.org/docs/reference/api/pandas.DataFrame.apply.html\n",
    "\n",
    "df.head()\n",
    "\n"
   ]
  },
  {
   "cell_type": "markdown",
   "metadata": {},
   "source": [
    "### Numpy on dataframe"
   ]
  },
  {
   "cell_type": "code",
   "execution_count": null,
   "metadata": {},
   "outputs": [],
   "source": [
    "letra = input(\"Letra de mi Serie \") # Comando input"
   ]
  },
  {
   "cell_type": "code",
   "execution_count": null,
   "metadata": {},
   "outputs": [],
   "source": [
    "ser = 'Serie ' + letra\n",
    "ser"
   ]
  },
  {
   "cell_type": "code",
   "execution_count": null,
   "metadata": {},
   "outputs": [],
   "source": [
    "print('El valor máximo de mi serie:', df[ser].max())\n",
    "print('La fecha (el índice) cuando se alcanzó el máximo:', df[ser].argmax())\n",
    "print('La fecha en la que se alcanzó el máximo:', df[ser].idxmax())\n",
    "print('La media de mi serie:', df[ser].mean())"
   ]
  },
  {
   "cell_type": "code",
   "execution_count": null,
   "metadata": {},
   "outputs": [],
   "source": [
    "df.plot()"
   ]
  },
  {
   "cell_type": "markdown",
   "metadata": {},
   "source": [
    "También podemos obtener resultados para todo el dataframe"
   ]
  },
  {
   "cell_type": "code",
   "execution_count": null,
   "metadata": {},
   "outputs": [],
   "source": [
    "df.idxmax()"
   ]
  },
  {
   "cell_type": "markdown",
   "metadata": {},
   "source": [
    "Podemos renombrar columnas"
   ]
  },
  {
   "cell_type": "code",
   "execution_count": null,
   "metadata": {},
   "outputs": [],
   "source": [
    "df.rename(columns={'Serie A': 'SPX', \n",
    "                   'Serie B': 'TSLA', \n",
    "                   'Serie C': 'GOOGL', \n",
    "                   'Serie D': 'AAPL', \n",
    "                   'Serie E': 'MSFT'}, inplace=True)\n",
    "df.head()"
   ]
  },
  {
   "cell_type": "markdown",
   "metadata": {},
   "source": [
    "**EJERCICIO:**\n",
    "\n",
    "Descarga de Yahoo Finance los precios de las acciones de las emisoras que utilizamos para renombrar `df` del 2000 al 2005 (2000-01-01 a 2005-12-31)\n",
    "\n",
    "Importa los datos utilizando pandas (investiga cómo hacerlo pero este còdigo te puede servir `df = pd.read_csv(\"ejemplo.csv\")`), \n",
    "\n",
    "Calcula los rendimientos diarios de los precios, si te sirve usa `.pct_change()`\n",
    "\n",
    "\n",
    "Haz un dataframe conmo `df`y calcula:\n",
    "\n",
    "* El valor máximo de cada serie\n",
    "* El número del índice cuando se alcanzó el máximo de cada serie\n",
    "* La fecha en la que se alcanzó el máximo de cada serie\n",
    "* La media de cada serie serie"
   ]
  },
  {
   "cell_type": "code",
   "execution_count": null,
   "metadata": {},
   "outputs": [],
   "source": []
  },
  {
   "cell_type": "markdown",
   "metadata": {},
   "source": [
    "## Trabajando con datos reales\n",
    "\n",
    "Usaremos información financiera disponible en la red"
   ]
  },
  {
   "cell_type": "code",
   "execution_count": null,
   "metadata": {},
   "outputs": [],
   "source": [
    "import pandas as pd\n",
    "pd.core.common.is_list_like = pd.api.types.is_list_like\n",
    "\n",
    "import pandas_datareader as web\n",
    "from pandas_datareader import data as pdr\n",
    "from datetime import datetime"
   ]
  },
  {
   "cell_type": "markdown",
   "metadata": {},
   "source": [
    "Desde la página del FED https://fred.stlouisfed.org/categories\n",
    "\n"
   ]
  },
  {
   "cell_type": "code",
   "execution_count": null,
   "metadata": {},
   "outputs": [],
   "source": [
    "from datetime import date\n",
    "\n",
    "series_code = 'DGS10' # Tasa de interes de los Treasuries de 10 años\n",
    "# https://fred.stlouisfed.org/series/DGS10\n",
    "\n",
    "data_source = 'fred' # FED Economic Data Service \n",
    "\n",
    "start = date(1962, 1, 1)\n",
    "myData = pdr.DataReader(series_code, data_source, start)"
   ]
  },
  {
   "cell_type": "code",
   "execution_count": null,
   "metadata": {},
   "outputs": [],
   "source": [
    "myData.head()"
   ]
  },
  {
   "cell_type": "code",
   "execution_count": null,
   "metadata": {},
   "outputs": [],
   "source": [
    "myData = myData / 100.\n",
    "series_name = 'Nota del Tesoro de 10 años'\n",
    "myData = myData.rename(columns={series_code: series_name})\n",
    "myData.plot(title=series_name)\n",
    "plt.show() "
   ]
  },
  {
   "cell_type": "markdown",
   "metadata": {},
   "source": [
    "## Vizualización de datos (lo más básico primero)\n",
    "\n",
    "Empezamos por usar `matplotlib`"
   ]
  },
  {
   "cell_type": "code",
   "execution_count": null,
   "metadata": {},
   "outputs": [],
   "source": [
    "import matplotlib.pyplot as plt # https://matplotlib.org\n",
    "import numpy as np"
   ]
  },
  {
   "cell_type": "code",
   "execution_count": null,
   "metadata": {},
   "outputs": [],
   "source": [
    "aa = np.linspace(0, 20, 100)\n",
    "bb = np.exp(-aa)\n",
    "plt.plot(aa, bb)\n",
    "plt.show()"
   ]
  },
  {
   "cell_type": "code",
   "execution_count": null,
   "metadata": {},
   "outputs": [],
   "source": [
    "def f(x): \n",
    "    return np.exp(-x)\n",
    "\n",
    "aa = np.linspace(0, 10, 100) # Defino mi dominio\n",
    "bb = f(aa) # Aplico la función\n",
    "\n",
    "# Grafico\n",
    "plt.plot(aa, bb, 'r', linewidth = 3)\n",
    "plt.title('Función $ e^{-x}$')\n",
    "plt.xlabel(\"Valores de x\")\n",
    "plt.show()"
   ]
  },
  {
   "cell_type": "markdown",
   "metadata": {},
   "source": [
    "Grafica múltiples líneas y agregar leyenda"
   ]
  },
  {
   "cell_type": "code",
   "execution_count": null,
   "metadata": {},
   "outputs": [],
   "source": [
    "x=np.linspace(-4,4,30)\n",
    "y1=x**2\n",
    "y2=-x**2\n",
    "y3=(x-2)**2\n",
    "plt.plot(x,y1, label='$y=x^2$')\n",
    "plt.plot(x,y2, label=\"$y=-x^2$\")\n",
    "plt.plot(x,y3, label=\"$y=(x-2)^2$\")\n",
    "plt.legend()"
   ]
  },
  {
   "cell_type": "code",
   "execution_count": null,
   "metadata": {},
   "outputs": [],
   "source": [
    "x=np.linspace(-4,4,50)\n",
    "y=np.sin(x)\n",
    "plt.plot(x,y,'g*') "
   ]
  },
  {
   "cell_type": "code",
   "execution_count": null,
   "metadata": {},
   "outputs": [],
   "source": [
    "x=np.linspace(-4,4,50)\n",
    "y=np.sin(x)\n",
    "plt.plot(x,y,'b.')"
   ]
  },
  {
   "cell_type": "code",
   "execution_count": null,
   "metadata": {},
   "outputs": [],
   "source": [
    "x=np.linspace(-4,4,30)\n",
    "y1=x**2\n",
    "y2=-x**2\n",
    "y3=(x-2)**2\n",
    "\n",
    "plt.plot(x,y1, 'ro', label='$y=x^2$') # bolitas rojas\n",
    "plt.plot(x,y2, 'kH', label=\"$y=-x^2$\") # exágonos negros\n",
    "plt.plot(x,y3, 'c^', label=\"$y=(x-2)^2$\") # triángulos azul cielo\n",
    "plt.legend()\n",
    "\n",
    "# Guardar la gráfica\n",
    "plt.savefig('/Users/marianne/Desktop/plots.png') # saves to desktop"
   ]
  },
  {
   "cell_type": "markdown",
   "metadata": {},
   "source": [
    "# Continuará..."
   ]
  },
  {
   "cell_type": "markdown",
   "metadata": {},
   "source": [
    "***"
   ]
  },
  {
   "cell_type": "markdown",
   "metadata": {},
   "source": [
    "### La biblioteca `options` "
   ]
  },
  {
   "cell_type": "code",
   "execution_count": null,
   "metadata": {},
   "outputs": [],
   "source": [
    "from yahoo_fin import options"
   ]
  },
  {
   "cell_type": "code",
   "execution_count": null,
   "metadata": {},
   "outputs": [],
   "source": [
    "ticker = \"amzn\""
   ]
  },
  {
   "cell_type": "code",
   "execution_count": null,
   "metadata": {},
   "outputs": [],
   "source": [
    "maturities = options.get_expiration_dates(ticker)\n",
    "maturities"
   ]
  },
  {
   "cell_type": "code",
   "execution_count": null,
   "metadata": {},
   "outputs": [],
   "source": [
    "chain = options.get_options_chain(ticker)\n",
    "calls = chain[\"calls\"]\n",
    "puts = chain[\"puts\"]\n",
    "calls.tail()"
   ]
  },
  {
   "cell_type": "code",
   "execution_count": null,
   "metadata": {},
   "outputs": [],
   "source": [
    "T = maturities[4]"
   ]
  },
  {
   "cell_type": "code",
   "execution_count": null,
   "metadata": {},
   "outputs": [],
   "source": [
    "allOptionsT = options.get_options_chain(ticker, T)\n",
    "allCallsT = options.get_calls(ticker, T)\n",
    "allPutsT = options.get_puts(ticker, T)"
   ]
  },
  {
   "cell_type": "markdown",
   "metadata": {},
   "source": [
    "Este código toma tiempo en correr"
   ]
  },
  {
   "cell_type": "code",
   "execution_count": null,
   "metadata": {},
   "outputs": [],
   "source": [
    "info = {} \n",
    "for date in maturities:\n",
    "    info[date] = options.get_options_chain(ticker, date)"
   ]
  },
  {
   "cell_type": "code",
   "execution_count": null,
   "metadata": {
    "scrolled": true
   },
   "outputs": [],
   "source": [
    "info"
   ]
  },
  {
   "cell_type": "markdown",
   "metadata": {},
   "source": [
    "## Webscraping"
   ]
  },
  {
   "cell_type": "code",
   "execution_count": null,
   "metadata": {},
   "outputs": [],
   "source": [
    "from bs4 import BeautifulSoup\n",
    "import pandas as pd\n",
    "import requests"
   ]
  },
  {
   "cell_type": "code",
   "execution_count": null,
   "metadata": {},
   "outputs": [],
   "source": [
    "url = \"https://en.wikipedia.org/wiki/BNP_Paribas\"\n",
    "#url = \"https://es.wikipedia.org/wiki/Banco_Bilbao_Vizcaya_Argentaria\"\n",
    "\n",
    "content = requests.get(url).content\n",
    "soup = BeautifulSoup(content,'html.parser')"
   ]
  },
  {
   "cell_type": "markdown",
   "metadata": {},
   "source": [
    "Beautiful Soup es una librería Python que permite extraer información de contenido en formato HTML o XML. Para usarla, es necesario especificar un parser, que es responsable de transformar un documento HTML o XML en un árbol complejo de objetos Python.\n",
    "\n",
    "[https://j2logo.com/python/web-scraping-con-python-guia-inicio-beautifulsoup/]"
   ]
  },
  {
   "cell_type": "code",
   "execution_count": null,
   "metadata": {},
   "outputs": [],
   "source": [
    "soup"
   ]
  },
  {
   "cell_type": "code",
   "execution_count": null,
   "metadata": {},
   "outputs": [],
   "source": [
    "soup.title"
   ]
  },
  {
   "cell_type": "code",
   "execution_count": null,
   "metadata": {},
   "outputs": [],
   "source": [
    "atags = soup.find_all(\"a\") ## Viewing all data embedded in a tag"
   ]
  },
  {
   "cell_type": "markdown",
   "metadata": {},
   "source": [
    "El Elemento HTML Anchor `<a>` crea un enlace a otras páginas de internet, archivos o ubicaciones dentro de la misma página, direcciones de correo, o cualquier otra URL. [https://developer.mozilla.org/es/docs/Web/HTML/Element/a]"
   ]
  },
  {
   "cell_type": "code",
   "execution_count": null,
   "metadata": {},
   "outputs": [],
   "source": [
    "## Extracts only the relevant table\n",
    "table = soup.find_all(class_=\"wikitable\")[0]\n",
    "print(\"The html version of the table from the Wikipedia page reads: \")\n",
    "print(\"**********************\")\n",
    "print(table.prettify()) ##  The prettify command adds indentation\n",
    "print(\"**********************\")"
   ]
  },
  {
   "cell_type": "code",
   "execution_count": null,
   "metadata": {},
   "outputs": [],
   "source": [
    "index = [[th.text.strip() for th in tr.findChildren('th')] for tr in table.findChildren('tr')][0][1:]\n",
    "data = [[td.text.strip() for td in tr.findChildren('td')] for tr in table.findChildren('tr')][1:]"
   ]
  },
  {
   "cell_type": "code",
   "execution_count": null,
   "metadata": {},
   "outputs": [],
   "source": [
    "cols = [d[0] for d in data]\n",
    "values = np.transpose([d[1:] for d in data])\n",
    "df = pd.DataFrame (data = values, index = index, columns = cols)\n",
    "df.head()"
   ]
  },
  {
   "cell_type": "code",
   "execution_count": null,
   "metadata": {},
   "outputs": [],
   "source": [
    "index"
   ]
  },
  {
   "cell_type": "code",
   "execution_count": null,
   "metadata": {},
   "outputs": [],
   "source": []
  }
 ],
 "metadata": {
  "kernelspec": {
   "display_name": "Python 3",
   "language": "python",
   "name": "python3"
  },
  "language_info": {
   "codemirror_mode": {
    "name": "ipython",
    "version": 3
   },
   "file_extension": ".py",
   "mimetype": "text/x-python",
   "name": "python",
   "nbconvert_exporter": "python",
   "pygments_lexer": "ipython3",
   "version": "3.8.3"
  }
 },
 "nbformat": 4,
 "nbformat_minor": 4
}
