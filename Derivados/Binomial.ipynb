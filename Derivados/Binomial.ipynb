{
 "cells": [
  {
   "cell_type": "code",
   "execution_count": 1,
   "metadata": {},
   "outputs": [],
   "source": [
    "#Bibliotecas a importar\n",
    "import numpy as np\n",
    "import math as math\n",
    "import itertools"
   ]
  },
  {
   "cell_type": "markdown",
   "metadata": {},
   "source": [
    "### Valuación de Opciones en tiempo discreto"
   ]
  },
  {
   "cell_type": "code",
   "execution_count": 10,
   "metadata": {},
   "outputs": [],
   "source": [
    "#t_op: Tipo de opcion\n",
    "# 1: Opción europea tipo call\n",
    "# 2: Opción europea tipo put\n",
    "\n",
    "#No hagan caso a estos\n",
    "# 3: Opción digital tipo call\n",
    "# 4: Opción digital tipo put\n",
    "# 5: Opción asiática\n",
    "# 6: Opción lookback\n",
    "# 7: Opción Barrera Up&Out\n",
    "# 8: Opción Barrera Up&In\n",
    "# 9: Opción Americana call\n",
    "# 10: Opción Americana put\n",
    "\n",
    "t_op = 1\n",
    "T = 1 #Tiempo de vigencia de la opción (en años)\n",
    "r = 0.056 #tasa anual libre de riesgo continua\n",
    "k = 4 #Precio strike. Funciona como el salto en el caso de las digitales\n",
    "S_0 = 5 #Precio del subyacente a t=0\n",
    "n = 3 #Particiones del árbol (Periodos)\n",
    "sigma= 0 #Volatilidad. Si es diferente a 0 calculamos u y d como en el caso contínuo\n",
    "u = 1.2 #Factor de aumento en el precio\n",
    "d = 0.6 #Factor de disminución de precio\n",
    "\n",
    "#No hagan caso a estos aún, son de otros derivados\n",
    "reb = 2 #Rebate\n",
    "b = 5 #Barrera"
   ]
  },
  {
   "cell_type": "markdown",
   "metadata": {},
   "source": [
    "# Probabilidad en la medida libre de riesgo"
   ]
  },
  {
   "cell_type": "markdown",
   "metadata": {},
   "source": [
    "En la medida libre de riesgo, calculamos las probabilidades de subida y bajada de la sguiente manera:\n",
    "\n",
    "$$P_{u}=\\frac{e^{r*\\delta_t}-d}{u-d}$$\n",
    "$$P_{d}=\\frac{u-e^{r*\\delta_t}}{u-d}$$\n",
    "\n",
    "Donde $\\delta_n$ es la proporción de años que dura cada periodo en el que particionamos el árbol"
   ]
  },
  {
   "cell_type": "code",
   "execution_count": 11,
   "metadata": {},
   "outputs": [],
   "source": [
    "delta_t = T / n\n",
    "if (sigma!=0):\n",
    "    u=math.exp((r-(sigma**2)/(2))*delta_t+sigma*math.sqrt(delta_t))\n",
    "    d=math.exp((r-(sigma**2)/(2))*delta_t-sigma*math.sqrt(delta_t))\n",
    "p = (math.exp(r * delta_t) - d) / (u - d) #Probabilidad de aumento en el precio"
   ]
  },
  {
   "cell_type": "markdown",
   "metadata": {},
   "source": [
    "## Construcción del árbol"
   ]
  },
  {
   "cell_type": "markdown",
   "metadata": {},
   "source": [
    "### Subyacente"
   ]
  },
  {
   "cell_type": "markdown",
   "metadata": {},
   "source": [
    "Valor en el primer paso"
   ]
  },
  {
   "cell_type": "code",
   "execution_count": 12,
   "metadata": {},
   "outputs": [
    {
     "data": {
      "text/plain": [
       "array([[5., 0., 0., 0.],\n",
       "       [0., 0., 0., 0.],\n",
       "       [0., 0., 0., 0.],\n",
       "       [0., 0., 0., 0.]])"
      ]
     },
     "execution_count": 12,
     "metadata": {},
     "output_type": "execute_result"
    }
   ],
   "source": [
    "#Matriz que almacena los valores del subyacente\n",
    "arbol = np.zeros((n + 1, n + 1))\n",
    "#El primer valor de la matriz es el subyacente a precio en t=0\n",
    "arbol[0,0] = S_0\n",
    "arbol #Visualizamos"
   ]
  },
  {
   "cell_type": "markdown",
   "metadata": {},
   "source": [
    "Valor del subyacente en el resto de los pasos"
   ]
  },
  {
   "cell_type": "code",
   "execution_count": 13,
   "metadata": {},
   "outputs": [
    {
     "data": {
      "text/plain": [
       "array([[5.  , 6.  , 7.2 , 8.64],\n",
       "       [0.  , 3.  , 3.6 , 4.32],\n",
       "       [0.  , 0.  , 1.8 , 2.16],\n",
       "       [0.  , 0.  , 0.  , 1.08]])"
      ]
     },
     "execution_count": 13,
     "metadata": {},
     "output_type": "execute_result"
    }
   ],
   "source": [
    "#For para llenar los valores de la matriz\n",
    "for col in range(1, n +1):\n",
    "    for ren in range(0, n +1):\n",
    "        #Condicional para limitar matriz superior triangular\n",
    "        if((col - ren) >= 0):\n",
    "            arbol[ren, col] = S_0 *(( u ** (col - ren)) * (d ** (ren)))\n",
    "arbol #Visualizamos"
   ]
  },
  {
   "cell_type": "markdown",
   "metadata": {},
   "source": [
    "No hagan caso a esto aún, es extra :)"
   ]
  },
  {
   "cell_type": "code",
   "execution_count": 72,
   "metadata": {},
   "outputs": [],
   "source": [
    "if(t_op==5 or t_op==6 or t_op==7 or t_op==8):\n",
    "    arbol_aux=np.zeros((2**n, n+1))\n",
    "    for col in range(0,n+1):\n",
    "        if(col==0):\n",
    "            arbol_aux[0,0]=S_0\n",
    "        else:\n",
    "            up_down=list(itertools.product(['u','d'],repeat=col))\n",
    "            for ren in range(0,2**col):\n",
    "                bajas=0\n",
    "                pos=up_down[ren]\n",
    "                for letter in pos:\n",
    "                    if (letter=='d'):\n",
    "                        bajas=bajas+1\n",
    "                arbol_aux[ren,col]=S_0*(u**(col-bajas))*d**(bajas)"
   ]
  },
  {
   "cell_type": "markdown",
   "metadata": {},
   "source": [
    "### Payoff"
   ]
  },
  {
   "cell_type": "markdown",
   "metadata": {},
   "source": [
    "Primer paso"
   ]
  },
  {
   "cell_type": "code",
   "execution_count": 14,
   "metadata": {},
   "outputs": [
    {
     "data": {
      "text/plain": [
       "array([[0.  , 0.  , 0.  , 4.64],\n",
       "       [0.  , 0.  , 0.  , 0.32],\n",
       "       [0.  , 0.  , 0.  , 0.  ],\n",
       "       [0.  , 0.  , 0.  , 0.  ]])"
      ]
     },
     "execution_count": 14,
     "metadata": {},
     "output_type": "execute_result"
    }
   ],
   "source": [
    "#Matriz que almacena el valor de los payoffs\n",
    "payoffs = np.zeros((n+1, n+1))\n",
    "#Sobreescribimos la última columna de la matriz de PAYOFSS\n",
    "#IMPORTANTE: Agregar condicional para el caso del put (este es el caso particular del call)\n",
    "if (t_op==1 or t_op==9):\n",
    "    for ren in range(0, n+1):\n",
    "        payoffs[ren, n] = max(arbol[ren, n] - k, 0)\n",
    "elif (t_op==2 or t_op==10):\n",
    "    for ren in range(0, n+1):\n",
    "        payoffs[ren, n] = max(k-arbol[ren, n] , 0)\n",
    "elif t_op==3:\n",
    "    for ren in range(0, n+1):\n",
    "        if (arbol[ren, n] > S_0):\n",
    "            payoffs[ren, n] = k\n",
    "        else:\n",
    "            payoffs[ren, n] = 0\n",
    "elif t_op==4:\n",
    "    for ren in range(0, n+1):\n",
    "        if (arbol[ren, n] < S_0):\n",
    "            payoffs[ren, n] = k\n",
    "        else:\n",
    "            payoffs[ren, n] = 0\n",
    "elif t_op==5:\n",
    "    payoffs=np.zeros((2**n, n+1))\n",
    "    up_down=list(itertools.product(['u','d'],repeat=n))\n",
    "    for ren in range(0,2**n):\n",
    "        pos=up_down[ren]\n",
    "        suma=S_0\n",
    "        bajas=0\n",
    "        for i in range(0,n):\n",
    "            if(pos[i]=='d'):\n",
    "                bajas=bajas+1\n",
    "            suma=suma+arbol[bajas,(i+1)]\n",
    "        payoffs[ren,n]=max((suma/(n+1))-k,0)\n",
    "elif t_op==6:\n",
    "    payoffs=np.zeros((2**n, n+1))\n",
    "    up_down=list(itertools.product(['u','d'],repeat=n))\n",
    "    for ren in range(0,2**n):\n",
    "        pos=up_down[ren]\n",
    "        valores=np.zeros(n+1)\n",
    "        valores[0]=S_0\n",
    "        bajas=0\n",
    "        for i in range(0,n):\n",
    "            if(pos[i]=='d'):\n",
    "                bajas=bajas+1\n",
    "            valores[i+1]=arbol[bajas,(i+1)]\n",
    "        payoffs[ren,n]=max(valores)\n",
    "elif t_op==7:\n",
    "    payoffs=np.zeros((2**n, n+1))\n",
    "    up_down=list(itertools.product(['u','d'],repeat=n))\n",
    "    for ren in range(0,2**n):\n",
    "        pos=up_down[ren]\n",
    "        valores=np.zeros(n+1)\n",
    "        valores[0]=S_0\n",
    "        bajas=0\n",
    "        for i in range(0,n):\n",
    "            if(pos[i]=='d'):\n",
    "                bajas=bajas+1\n",
    "            valores[i+1]=arbol[bajas,(i+1)]\n",
    "        if(max(valores)>=b):\n",
    "            payoffs[ren,n]=reb\n",
    "        else:\n",
    "            payoffs[ren,n]=max(arbol_aux[ren, n] - k, 0)\n",
    "elif t_op==8:\n",
    "    payoffs=np.zeros((2**n, n+1))\n",
    "    up_down=list(itertools.product(['u','d'],repeat=n))\n",
    "    for ren in range(0,2**n):\n",
    "        pos=up_down[ren]\n",
    "        valores=np.zeros(n+1)\n",
    "        valores[0]=S_0\n",
    "        bajas=0\n",
    "        for i in range(0,n):\n",
    "            if(pos[i]=='d'):\n",
    "                bajas=bajas+1\n",
    "            valores[i+1]=arbol[bajas,(i+1)]\n",
    "        if(max(valores)<=b):\n",
    "            payoffs[ren,n]=reb\n",
    "        else:\n",
    "            payoffs[ren,n]=max(k-arbol_aux[ren, n], 0)\n",
    "payoffs #Visualizamos"
   ]
  },
  {
   "cell_type": "markdown",
   "metadata": {},
   "source": [
    "Valuamos backwards"
   ]
  },
  {
   "cell_type": "code",
   "execution_count": 15,
   "metadata": {},
   "outputs": [
    {
     "data": {
      "text/plain": [
       "array([[1.62598469, 2.30817101, 3.27397409, 4.64      ],\n",
       "       [0.        , 0.15022224, 0.21925126, 0.32      ],\n",
       "       [0.        , 0.        , 0.        , 0.        ],\n",
       "       [0.        , 0.        , 0.        , 0.        ]])"
      ]
     },
     "execution_count": 15,
     "metadata": {},
     "output_type": "execute_result"
    }
   ],
   "source": [
    "#Sobreescribimos matriz de payoffs mediante el método iterativo\n",
    "if(t_op!=5):\n",
    "    for i in range(1, n + 1):\n",
    "        col = n - i\n",
    "        for j in range(0, col +1):\n",
    "            payoffs[j, col] = math.exp(-r * delta_t) * (p * payoffs[j, col + 1] + (1 - p)*payoffs[j +1, col +1])\n",
    "\n",
    "if(t_op==5 or t_op==6 or t_op==7 or t_op==8):\n",
    "    for i in range(1, n+1):\n",
    "        col = n - i\n",
    "        for j in range(0, 2**col):\n",
    "            payoffs[j, col] = math.exp(-r * delta_t) * (p * payoffs[2*j, col + 1] + (1 - p)*payoffs[2*j +1, col +1])\n",
    "if(t_op==9):\n",
    "    for i in range(1, n + 1):\n",
    "        col = n - i\n",
    "        for j in range(0, col +1):\n",
    "            payoffs[j, col] = max(arbol[j,col]-k,math.exp(-r * delta_t) * (p * payoffs[j, col + 1] + (1 - p)*payoffs[j +1, col +1]))\n",
    "if(t_op==10):\n",
    "    for i in range(1, n + 1):\n",
    "        col = n - i\n",
    "        for j in range(0, col +1):\n",
    "            payoffs[j, col] = max(k-arbol[j,col],math.exp(-r * delta_t) * (p * payoffs[j, col + 1] + (1 - p)*payoffs[j +1, col +1]))\n",
    "payoffs #visualizamos"
   ]
  },
  {
   "cell_type": "markdown",
   "metadata": {},
   "source": [
    "## Valor de la opción"
   ]
  },
  {
   "cell_type": "code",
   "execution_count": 16,
   "metadata": {},
   "outputs": [
    {
     "data": {
      "text/plain": [
       "1.6259846893541077"
      ]
     },
     "execution_count": 16,
     "metadata": {},
     "output_type": "execute_result"
    }
   ],
   "source": [
    "payoffs[0,0]"
   ]
  },
  {
   "cell_type": "markdown",
   "metadata": {},
   "source": [
    "## Composición del portafolio"
   ]
  },
  {
   "cell_type": "markdown",
   "metadata": {},
   "source": [
    "# Alfas"
   ]
  },
  {
   "cell_type": "markdown",
   "metadata": {},
   "source": [
    "$$\\alpha = \\frac{X_u-X_d}{S_u-S_d}$$"
   ]
  },
  {
   "cell_type": "code",
   "execution_count": 8,
   "metadata": {},
   "outputs": [
    {
     "data": {
      "text/plain": [
       "array([[0.25662965, 0.31212853, 0.37962963],\n",
       "       [0.        , 0.        , 0.        ],\n",
       "       [0.        , 0.        , 0.        ]])"
      ]
     },
     "execution_count": 8,
     "metadata": {},
     "output_type": "execute_result"
    }
   ],
   "source": [
    "#Matriz que almacena los valores de las alfas\n",
    "alfas = np.zeros((n, n ))\n",
    "if(t_op!=5):\n",
    "    for ren in range(0,n):\n",
    "        for col in range(0, n):\n",
    "            #Condicional para limitar matriz superior triangular\n",
    "            if((col - ren) >= 0):\n",
    "                alfas[ren,col]=(payoffs[ren,col+1]-payoffs[ren+1,col+1])/(arbol[ren,col+1]-arbol[ren+1,col+1])\n",
    "if(t_op==5 or t_op==6 or t_op==7 or t_op==8):\n",
    "    alfas = np.zeros((2**n, n))\n",
    "    for col in range(0,n):\n",
    "    #Condicional para limitar matriz superior triangular\n",
    "        for ren in range(0, 2**col):\n",
    "            alfas[ren,col]=(payoffs[2*ren,col+1]-payoffs[2*ren+1,col+1])/(arbol_aux[2*ren,col+1]-arbol_aux[2*ren+1,col+1])\n",
    "alfas #Visualizamos"
   ]
  },
  {
   "cell_type": "markdown",
   "metadata": {},
   "source": [
    "# Betas"
   ]
  },
  {
   "cell_type": "markdown",
   "metadata": {},
   "source": [
    "$$\\beta = e^{-r*\\delta_t}\\left(X_u-\\frac{(X_u-X_d)S_u}{S_u-S_d}\\right)$$"
   ]
  },
  {
   "cell_type": "code",
   "execution_count": 9,
   "metadata": {},
   "outputs": [
    {
     "data": {
      "text/plain": [
       "array([[-0.755651  , -1.10288223, -1.60967062],\n",
       "       [ 0.        ,  0.        ,  0.        ],\n",
       "       [ 0.        ,  0.        ,  0.        ]])"
      ]
     },
     "execution_count": 9,
     "metadata": {},
     "output_type": "execute_result"
    }
   ],
   "source": [
    "#Matriz que almacena los valores de las alfas\n",
    "if(t_op!=5):\n",
    "    betas = np.zeros((n, n ))\n",
    "    for ren in range(0,n):\n",
    "        for col in range(0, n):\n",
    "            #Condicional para limitar matriz superior triangular\n",
    "            if((col - ren) >= 0):\n",
    "                betas[ren,col]=math.exp(-r * delta_t)*(payoffs[ren,col+1]-((payoffs[ren,col+1]-payoffs[ren+1,col+1])*arbol[ren,col+1])/(arbol[ren,col+1]-arbol[ren+1,col+1]))\n",
    "\n",
    "if(t_op==5 or t_op==6 or t_op==7 or t_op==8):\n",
    "    betas = np.zeros((2**n, n))\n",
    "    for col in range(0,n):\n",
    "    #Condicional para limitar matriz superior triangular\n",
    "        for ren in range(0, 2**col):\n",
    "                betas[ren,col]=math.exp(-r * delta_t)*(payoffs[2*ren,col+1]-((payoffs[2*ren,col+1]-payoffs[2*ren+1,col+1])*arbol_aux[2*ren,col+1])/(arbol_aux[2*ren,col+1]-arbol_aux[2*ren+1,col+1]))\n",
    "betas #Visualizamos"
   ]
  }
 ],
 "metadata": {
  "kernelspec": {
   "display_name": "Python 3 (ipykernel)",
   "language": "python",
   "name": "python3"
  },
  "language_info": {
   "codemirror_mode": {
    "name": "ipython",
    "version": 3
   },
   "file_extension": ".py",
   "mimetype": "text/x-python",
   "name": "python",
   "nbconvert_exporter": "python",
   "pygments_lexer": "ipython3",
   "version": "3.9.10"
  },
  "metadata": {
   "interpreter": {
    "hash": "7812ea015bdcee6f23a998adcdd2ef97c151c0c241b7b7070987d9313e41299d"
   }
  }
 },
 "nbformat": 4,
 "nbformat_minor": 4
}
